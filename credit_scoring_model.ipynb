{
 "cells": [
  {
   "cell_type": "code",
   "execution_count": 1,
   "metadata": {},
   "outputs": [],
   "source": [
    "import pandas as pd \n",
    "import matplotlib.pyplot as plt  "
   ]
  },
  {
   "cell_type": "code",
   "execution_count": 2,
   "metadata": {},
   "outputs": [
    {
     "data": {
      "text/html": [
       "<div>\n",
       "<style scoped>\n",
       "    .dataframe tbody tr th:only-of-type {\n",
       "        vertical-align: middle;\n",
       "    }\n",
       "\n",
       "    .dataframe tbody tr th {\n",
       "        vertical-align: top;\n",
       "    }\n",
       "\n",
       "    .dataframe thead th {\n",
       "        text-align: right;\n",
       "    }\n",
       "</style>\n",
       "<table border=\"1\" class=\"dataframe\">\n",
       "  <thead>\n",
       "    <tr style=\"text-align: right;\">\n",
       "      <th></th>\n",
       "      <th>Age</th>\n",
       "      <th>Sex</th>\n",
       "      <th>Job</th>\n",
       "      <th>Housing</th>\n",
       "      <th>Saving accounts</th>\n",
       "      <th>Checking account</th>\n",
       "      <th>Credit amount</th>\n",
       "      <th>Duration</th>\n",
       "      <th>Purpose</th>\n",
       "      <th>Risk</th>\n",
       "    </tr>\n",
       "  </thead>\n",
       "  <tbody>\n",
       "    <tr>\n",
       "      <th>0</th>\n",
       "      <td>67</td>\n",
       "      <td>male</td>\n",
       "      <td>2</td>\n",
       "      <td>own</td>\n",
       "      <td>NaN</td>\n",
       "      <td>little</td>\n",
       "      <td>1169</td>\n",
       "      <td>6</td>\n",
       "      <td>radio/TV</td>\n",
       "      <td>good</td>\n",
       "    </tr>\n",
       "    <tr>\n",
       "      <th>1</th>\n",
       "      <td>22</td>\n",
       "      <td>female</td>\n",
       "      <td>2</td>\n",
       "      <td>own</td>\n",
       "      <td>little</td>\n",
       "      <td>moderate</td>\n",
       "      <td>5951</td>\n",
       "      <td>48</td>\n",
       "      <td>radio/TV</td>\n",
       "      <td>bad</td>\n",
       "    </tr>\n",
       "    <tr>\n",
       "      <th>2</th>\n",
       "      <td>49</td>\n",
       "      <td>male</td>\n",
       "      <td>1</td>\n",
       "      <td>own</td>\n",
       "      <td>little</td>\n",
       "      <td>NaN</td>\n",
       "      <td>2096</td>\n",
       "      <td>12</td>\n",
       "      <td>education</td>\n",
       "      <td>good</td>\n",
       "    </tr>\n",
       "    <tr>\n",
       "      <th>3</th>\n",
       "      <td>45</td>\n",
       "      <td>male</td>\n",
       "      <td>2</td>\n",
       "      <td>free</td>\n",
       "      <td>little</td>\n",
       "      <td>little</td>\n",
       "      <td>7882</td>\n",
       "      <td>42</td>\n",
       "      <td>furniture/equipment</td>\n",
       "      <td>good</td>\n",
       "    </tr>\n",
       "    <tr>\n",
       "      <th>4</th>\n",
       "      <td>53</td>\n",
       "      <td>male</td>\n",
       "      <td>2</td>\n",
       "      <td>free</td>\n",
       "      <td>little</td>\n",
       "      <td>little</td>\n",
       "      <td>4870</td>\n",
       "      <td>24</td>\n",
       "      <td>car</td>\n",
       "      <td>bad</td>\n",
       "    </tr>\n",
       "  </tbody>\n",
       "</table>\n",
       "</div>"
      ],
      "text/plain": [
       "   Age     Sex  Job Housing Saving accounts Checking account  Credit amount  \\\n",
       "0   67    male    2     own             NaN           little           1169   \n",
       "1   22  female    2     own          little         moderate           5951   \n",
       "2   49    male    1     own          little              NaN           2096   \n",
       "3   45    male    2    free          little           little           7882   \n",
       "4   53    male    2    free          little           little           4870   \n",
       "\n",
       "   Duration              Purpose  Risk  \n",
       "0         6             radio/TV  good  \n",
       "1        48             radio/TV   bad  \n",
       "2        12            education  good  \n",
       "3        42  furniture/equipment  good  \n",
       "4        24                  car   bad  "
      ]
     },
     "execution_count": 2,
     "metadata": {},
     "output_type": "execute_result"
    }
   ],
   "source": [
    "df_credit = pd.read_csv(\"german_credit_data.csv\")\n",
    "df_credit.head()"
   ]
  },
  {
   "cell_type": "code",
   "execution_count": 3,
   "metadata": {},
   "outputs": [
    {
     "name": "stdout",
     "output_type": "stream",
     "text": [
      "Age                  53\n",
      "Sex                   2\n",
      "Job                   4\n",
      "Housing               3\n",
      "Saving accounts       4\n",
      "Checking account      3\n",
      "Credit amount       921\n",
      "Duration             33\n",
      "Purpose               8\n",
      "Risk                  2\n",
      "dtype: int64\n"
     ]
    }
   ],
   "source": [
    "#Looking unique values\n",
    "print(df_credit.nunique())"
   ]
  },
  {
   "cell_type": "markdown",
   "metadata": {},
   "source": [
    "### Feature engineering "
   ]
  },
  {
   "cell_type": "code",
   "execution_count": 4,
   "metadata": {},
   "outputs": [],
   "source": [
    "#Creating an categorical variable to handle with the Age variable\n",
    "\n",
    "#Let's look the Credit Amount column\n",
    "interval = (18, 25, 35, 60, 120)\n",
    "\n",
    "cats = ['Student', 'Young', 'Adult', 'Senior']\n",
    "df_credit[\"Age_cat\"] = pd.cut(df_credit.Age, interval, labels=cats)\n",
    "\n",
    "\n",
    "df_good = df_credit[df_credit[\"Risk\"] == 'good']\n",
    "df_bad = df_credit[df_credit[\"Risk\"] == 'bad']"
   ]
  },
  {
   "cell_type": "code",
   "execution_count": 5,
   "metadata": {},
   "outputs": [
    {
     "data": {
      "text/html": [
       "<div>\n",
       "<style scoped>\n",
       "    .dataframe tbody tr th:only-of-type {\n",
       "        vertical-align: middle;\n",
       "    }\n",
       "\n",
       "    .dataframe tbody tr th {\n",
       "        vertical-align: top;\n",
       "    }\n",
       "\n",
       "    .dataframe thead th {\n",
       "        text-align: right;\n",
       "    }\n",
       "</style>\n",
       "<table border=\"1\" class=\"dataframe\">\n",
       "  <thead>\n",
       "    <tr style=\"text-align: right;\">\n",
       "      <th></th>\n",
       "      <th>Age</th>\n",
       "      <th>Sex</th>\n",
       "      <th>Job</th>\n",
       "      <th>Housing</th>\n",
       "      <th>Saving accounts</th>\n",
       "      <th>Checking account</th>\n",
       "      <th>Credit amount</th>\n",
       "      <th>Duration</th>\n",
       "      <th>Purpose</th>\n",
       "      <th>Risk</th>\n",
       "      <th>Age_cat</th>\n",
       "    </tr>\n",
       "  </thead>\n",
       "  <tbody>\n",
       "    <tr>\n",
       "      <th>0</th>\n",
       "      <td>67</td>\n",
       "      <td>male</td>\n",
       "      <td>2</td>\n",
       "      <td>own</td>\n",
       "      <td>NaN</td>\n",
       "      <td>little</td>\n",
       "      <td>1169</td>\n",
       "      <td>6</td>\n",
       "      <td>radio/TV</td>\n",
       "      <td>good</td>\n",
       "      <td>Senior</td>\n",
       "    </tr>\n",
       "    <tr>\n",
       "      <th>1</th>\n",
       "      <td>22</td>\n",
       "      <td>female</td>\n",
       "      <td>2</td>\n",
       "      <td>own</td>\n",
       "      <td>little</td>\n",
       "      <td>moderate</td>\n",
       "      <td>5951</td>\n",
       "      <td>48</td>\n",
       "      <td>radio/TV</td>\n",
       "      <td>bad</td>\n",
       "      <td>Student</td>\n",
       "    </tr>\n",
       "    <tr>\n",
       "      <th>2</th>\n",
       "      <td>49</td>\n",
       "      <td>male</td>\n",
       "      <td>1</td>\n",
       "      <td>own</td>\n",
       "      <td>little</td>\n",
       "      <td>NaN</td>\n",
       "      <td>2096</td>\n",
       "      <td>12</td>\n",
       "      <td>education</td>\n",
       "      <td>good</td>\n",
       "      <td>Adult</td>\n",
       "    </tr>\n",
       "    <tr>\n",
       "      <th>3</th>\n",
       "      <td>45</td>\n",
       "      <td>male</td>\n",
       "      <td>2</td>\n",
       "      <td>free</td>\n",
       "      <td>little</td>\n",
       "      <td>little</td>\n",
       "      <td>7882</td>\n",
       "      <td>42</td>\n",
       "      <td>furniture/equipment</td>\n",
       "      <td>good</td>\n",
       "      <td>Adult</td>\n",
       "    </tr>\n",
       "    <tr>\n",
       "      <th>4</th>\n",
       "      <td>53</td>\n",
       "      <td>male</td>\n",
       "      <td>2</td>\n",
       "      <td>free</td>\n",
       "      <td>little</td>\n",
       "      <td>little</td>\n",
       "      <td>4870</td>\n",
       "      <td>24</td>\n",
       "      <td>car</td>\n",
       "      <td>bad</td>\n",
       "      <td>Adult</td>\n",
       "    </tr>\n",
       "  </tbody>\n",
       "</table>\n",
       "</div>"
      ],
      "text/plain": [
       "   Age     Sex  Job Housing Saving accounts Checking account  Credit amount  \\\n",
       "0   67    male    2     own             NaN           little           1169   \n",
       "1   22  female    2     own          little         moderate           5951   \n",
       "2   49    male    1     own          little              NaN           2096   \n",
       "3   45    male    2    free          little           little           7882   \n",
       "4   53    male    2    free          little           little           4870   \n",
       "\n",
       "   Duration              Purpose  Risk  Age_cat  \n",
       "0         6             radio/TV  good   Senior  \n",
       "1        48             radio/TV   bad  Student  \n",
       "2        12            education  good    Adult  \n",
       "3        42  furniture/equipment  good    Adult  \n",
       "4        24                  car   bad    Adult  "
      ]
     },
     "execution_count": 5,
     "metadata": {},
     "output_type": "execute_result"
    }
   ],
   "source": [
    "df_credit.head()"
   ]
  },
  {
   "cell_type": "code",
   "execution_count": 6,
   "metadata": {},
   "outputs": [
    {
     "name": "stdout",
     "output_type": "stream",
     "text": [
      "Purpose :  ['radio/TV' 'education' 'furniture/equipment' 'car' 'business'\n",
      " 'domestic appliances' 'repairs' 'vacation/others']\n",
      "Sex :  ['male' 'female']\n",
      "Housing :  ['own' 'free' 'rent']\n",
      "Saving accounts :  [nan 'little' 'quite rich' 'rich' 'moderate']\n",
      "Risk :  ['good' 'bad']\n",
      "Checking account :  ['little' 'moderate' nan 'rich']\n",
      "Aget_cat :  ['Senior', 'Student', 'Adult', 'Young']\n",
      "Categories (4, object): ['Student' < 'Young' < 'Adult' < 'Senior']\n"
     ]
    }
   ],
   "source": [
    "print(\"Purpose : \",df_credit.Purpose.unique())\n",
    "print(\"Sex : \",df_credit.Sex.unique())\n",
    "print(\"Housing : \",df_credit.Housing.unique())\n",
    "print(\"Saving accounts : \",df_credit['Saving accounts'].unique())\n",
    "print(\"Risk : \",df_credit['Risk'].unique())\n",
    "print(\"Checking account : \",df_credit['Checking account'].unique())\n",
    "print(\"Aget_cat : \",df_credit['Age_cat'].unique())"
   ]
  },
  {
   "cell_type": "code",
   "execution_count": 7,
   "metadata": {},
   "outputs": [],
   "source": [
    "def one_hot_encoder(df, nan_as_category = False):\n",
    "    original_columns = list(df.columns)\n",
    "    categorical_columns = [col for col in df.columns if df[col].dtype == 'object']\n",
    "    df = pd.get_dummies(df, columns= categorical_columns, dummy_na= nan_as_category, drop_first=True)\n",
    "    new_columns = [c for c in df.columns if c not in original_columns]\n",
    "    return df, new_columns"
   ]
  },
  {
   "cell_type": "code",
   "execution_count": 8,
   "metadata": {},
   "outputs": [],
   "source": [
    "df_credit['Saving accounts'] = df_credit['Saving accounts'].fillna('no_inf')\n",
    "df_credit['Checking account'] = df_credit['Checking account'].fillna('no_inf')\n",
    "\n",
    "#Purpose to Dummies Variable\n",
    "df_credit = df_credit.merge(pd.get_dummies(df_credit.Purpose, drop_first=True, prefix='Purpose'), left_index=True, right_index=True)\n",
    "#Sex feature in dummies\n",
    "df_credit = df_credit.merge(pd.get_dummies(df_credit.Sex, drop_first=True, prefix='Sex'), left_index=True, right_index=True)\n",
    "# Housing get dummies\n",
    "df_credit = df_credit.merge(pd.get_dummies(df_credit.Housing, drop_first=True, prefix='Housing'), left_index=True, right_index=True)\n",
    "# Housing get Saving Accounts\n",
    "df_credit = df_credit.merge(pd.get_dummies(df_credit[\"Saving accounts\"], drop_first=True, prefix='Savings'), left_index=True, right_index=True)\n",
    "# Housing get Risk\n",
    "df_credit = df_credit.merge(pd.get_dummies(df_credit.Risk, prefix='Risk'), left_index=True, right_index=True)\n",
    "# Housing get Checking Account\n",
    "df_credit = df_credit.merge(pd.get_dummies(df_credit[\"Checking account\"], drop_first=True, prefix='Check'), left_index=True, right_index=True)\n",
    "# Housing get Age categorical\n",
    "df_credit = df_credit.merge(pd.get_dummies(df_credit[\"Age_cat\"], drop_first=True, prefix='Age_cat'), left_index=True, right_index=True)"
   ]
  },
  {
   "cell_type": "code",
   "execution_count": 9,
   "metadata": {},
   "outputs": [],
   "source": [
    "del df_credit[\"Saving accounts\"]\n",
    "del df_credit[\"Checking account\"]\n",
    "del df_credit[\"Purpose\"]\n",
    "del df_credit[\"Sex\"]\n",
    "del df_credit[\"Housing\"]\n",
    "del df_credit[\"Age_cat\"]\n",
    "del df_credit[\"Risk\"]\n",
    "del df_credit['Risk_good']\n",
    "del df_credit['Age']"
   ]
  },
  {
   "cell_type": "code",
   "execution_count": 10,
   "metadata": {},
   "outputs": [
    {
     "data": {
      "text/html": [
       "<div>\n",
       "<style scoped>\n",
       "    .dataframe tbody tr th:only-of-type {\n",
       "        vertical-align: middle;\n",
       "    }\n",
       "\n",
       "    .dataframe tbody tr th {\n",
       "        vertical-align: top;\n",
       "    }\n",
       "\n",
       "    .dataframe thead th {\n",
       "        text-align: right;\n",
       "    }\n",
       "</style>\n",
       "<table border=\"1\" class=\"dataframe\">\n",
       "  <thead>\n",
       "    <tr style=\"text-align: right;\">\n",
       "      <th></th>\n",
       "      <th>Job</th>\n",
       "      <th>Credit amount</th>\n",
       "      <th>Duration</th>\n",
       "      <th>Purpose_car</th>\n",
       "      <th>Purpose_domestic appliances</th>\n",
       "      <th>Purpose_education</th>\n",
       "      <th>Purpose_furniture/equipment</th>\n",
       "      <th>Purpose_radio/TV</th>\n",
       "      <th>Purpose_repairs</th>\n",
       "      <th>Purpose_vacation/others</th>\n",
       "      <th>...</th>\n",
       "      <th>Savings_no_inf</th>\n",
       "      <th>Savings_quite rich</th>\n",
       "      <th>Savings_rich</th>\n",
       "      <th>Risk_bad</th>\n",
       "      <th>Check_moderate</th>\n",
       "      <th>Check_no_inf</th>\n",
       "      <th>Check_rich</th>\n",
       "      <th>Age_cat_Young</th>\n",
       "      <th>Age_cat_Adult</th>\n",
       "      <th>Age_cat_Senior</th>\n",
       "    </tr>\n",
       "  </thead>\n",
       "  <tbody>\n",
       "    <tr>\n",
       "      <th>0</th>\n",
       "      <td>2</td>\n",
       "      <td>1169</td>\n",
       "      <td>6</td>\n",
       "      <td>0</td>\n",
       "      <td>0</td>\n",
       "      <td>0</td>\n",
       "      <td>0</td>\n",
       "      <td>1</td>\n",
       "      <td>0</td>\n",
       "      <td>0</td>\n",
       "      <td>...</td>\n",
       "      <td>1</td>\n",
       "      <td>0</td>\n",
       "      <td>0</td>\n",
       "      <td>0</td>\n",
       "      <td>0</td>\n",
       "      <td>0</td>\n",
       "      <td>0</td>\n",
       "      <td>0</td>\n",
       "      <td>0</td>\n",
       "      <td>1</td>\n",
       "    </tr>\n",
       "    <tr>\n",
       "      <th>1</th>\n",
       "      <td>2</td>\n",
       "      <td>5951</td>\n",
       "      <td>48</td>\n",
       "      <td>0</td>\n",
       "      <td>0</td>\n",
       "      <td>0</td>\n",
       "      <td>0</td>\n",
       "      <td>1</td>\n",
       "      <td>0</td>\n",
       "      <td>0</td>\n",
       "      <td>...</td>\n",
       "      <td>0</td>\n",
       "      <td>0</td>\n",
       "      <td>0</td>\n",
       "      <td>1</td>\n",
       "      <td>1</td>\n",
       "      <td>0</td>\n",
       "      <td>0</td>\n",
       "      <td>0</td>\n",
       "      <td>0</td>\n",
       "      <td>0</td>\n",
       "    </tr>\n",
       "    <tr>\n",
       "      <th>2</th>\n",
       "      <td>1</td>\n",
       "      <td>2096</td>\n",
       "      <td>12</td>\n",
       "      <td>0</td>\n",
       "      <td>0</td>\n",
       "      <td>1</td>\n",
       "      <td>0</td>\n",
       "      <td>0</td>\n",
       "      <td>0</td>\n",
       "      <td>0</td>\n",
       "      <td>...</td>\n",
       "      <td>0</td>\n",
       "      <td>0</td>\n",
       "      <td>0</td>\n",
       "      <td>0</td>\n",
       "      <td>0</td>\n",
       "      <td>1</td>\n",
       "      <td>0</td>\n",
       "      <td>0</td>\n",
       "      <td>1</td>\n",
       "      <td>0</td>\n",
       "    </tr>\n",
       "    <tr>\n",
       "      <th>3</th>\n",
       "      <td>2</td>\n",
       "      <td>7882</td>\n",
       "      <td>42</td>\n",
       "      <td>0</td>\n",
       "      <td>0</td>\n",
       "      <td>0</td>\n",
       "      <td>1</td>\n",
       "      <td>0</td>\n",
       "      <td>0</td>\n",
       "      <td>0</td>\n",
       "      <td>...</td>\n",
       "      <td>0</td>\n",
       "      <td>0</td>\n",
       "      <td>0</td>\n",
       "      <td>0</td>\n",
       "      <td>0</td>\n",
       "      <td>0</td>\n",
       "      <td>0</td>\n",
       "      <td>0</td>\n",
       "      <td>1</td>\n",
       "      <td>0</td>\n",
       "    </tr>\n",
       "    <tr>\n",
       "      <th>4</th>\n",
       "      <td>2</td>\n",
       "      <td>4870</td>\n",
       "      <td>24</td>\n",
       "      <td>1</td>\n",
       "      <td>0</td>\n",
       "      <td>0</td>\n",
       "      <td>0</td>\n",
       "      <td>0</td>\n",
       "      <td>0</td>\n",
       "      <td>0</td>\n",
       "      <td>...</td>\n",
       "      <td>0</td>\n",
       "      <td>0</td>\n",
       "      <td>0</td>\n",
       "      <td>1</td>\n",
       "      <td>0</td>\n",
       "      <td>0</td>\n",
       "      <td>0</td>\n",
       "      <td>0</td>\n",
       "      <td>1</td>\n",
       "      <td>0</td>\n",
       "    </tr>\n",
       "  </tbody>\n",
       "</table>\n",
       "<p>5 rows × 24 columns</p>\n",
       "</div>"
      ],
      "text/plain": [
       "   Job  Credit amount  Duration  Purpose_car  Purpose_domestic appliances  \\\n",
       "0    2           1169         6            0                            0   \n",
       "1    2           5951        48            0                            0   \n",
       "2    1           2096        12            0                            0   \n",
       "3    2           7882        42            0                            0   \n",
       "4    2           4870        24            1                            0   \n",
       "\n",
       "   Purpose_education  Purpose_furniture/equipment  Purpose_radio/TV  \\\n",
       "0                  0                            0                 1   \n",
       "1                  0                            0                 1   \n",
       "2                  1                            0                 0   \n",
       "3                  0                            1                 0   \n",
       "4                  0                            0                 0   \n",
       "\n",
       "   Purpose_repairs  Purpose_vacation/others  ...  Savings_no_inf  \\\n",
       "0                0                        0  ...               1   \n",
       "1                0                        0  ...               0   \n",
       "2                0                        0  ...               0   \n",
       "3                0                        0  ...               0   \n",
       "4                0                        0  ...               0   \n",
       "\n",
       "   Savings_quite rich  Savings_rich  Risk_bad  Check_moderate  Check_no_inf  \\\n",
       "0                   0             0         0               0             0   \n",
       "1                   0             0         1               1             0   \n",
       "2                   0             0         0               0             1   \n",
       "3                   0             0         0               0             0   \n",
       "4                   0             0         1               0             0   \n",
       "\n",
       "   Check_rich  Age_cat_Young  Age_cat_Adult  Age_cat_Senior  \n",
       "0           0              0              0               1  \n",
       "1           0              0              0               0  \n",
       "2           0              0              1               0  \n",
       "3           0              0              1               0  \n",
       "4           0              0              1               0  \n",
       "\n",
       "[5 rows x 24 columns]"
      ]
     },
     "execution_count": 10,
     "metadata": {},
     "output_type": "execute_result"
    }
   ],
   "source": [
    "df_credit.head()"
   ]
  },
  {
   "cell_type": "markdown",
   "metadata": {},
   "source": [
    "### Train model "
   ]
  },
  {
   "cell_type": "code",
   "execution_count": 11,
   "metadata": {},
   "outputs": [],
   "source": [
    "import numpy as np\n",
    "from sklearn.model_selection import train_test_split, KFold, cross_val_score # to split the data\n",
    "from sklearn.metrics import accuracy_score, confusion_matrix, classification_report, fbeta_score #To evaluate our model\n",
    "\n",
    "from sklearn.model_selection import GridSearchCV\n",
    "\n",
    "from sklearn.ensemble import RandomForestClassifier\n",
    "\n",
    "df_credit['Credit amount'] = np.log(df_credit['Credit amount'])\n",
    "X = df_credit.drop('Risk_bad', 1).values\n",
    "y = df_credit[\"Risk_bad\"].values\n",
    "\n",
    "# Spliting X and y into train and test version\n",
    "X_train, X_test, y_train, y_test = train_test_split(X, y, test_size = 0.25, random_state=42)"
   ]
  },
  {
   "cell_type": "code",
   "execution_count": 12,
   "metadata": {},
   "outputs": [
    {
     "data": {
      "text/plain": [
       "GridSearchCV(cv=5, estimator=RandomForestClassifier(random_state=2),\n",
       "             param_grid={'max_depth': [3, 5, 7, 10, None],\n",
       "                         'max_features': [5, 10, 15, 20],\n",
       "                         'n_estimators': [25, 50, 100, 150]},\n",
       "             scoring='recall')"
      ]
     },
     "execution_count": 12,
     "metadata": {},
     "output_type": "execute_result"
    }
   ],
   "source": [
    "param_grid = {\"max_depth\": [3,5, 7, 10, None],\n",
    "              \"n_estimators\":[25,50,100,150],\n",
    "              \"max_features\": [5,10,15,20]}\n",
    "\n",
    "#Creating the classifier\n",
    "model = RandomForestClassifier(random_state=2)\n",
    "\n",
    "grid_search = GridSearchCV(model, param_grid=param_grid, cv=5, scoring='recall')\n",
    "grid_search.fit(X_train, y_train)"
   ]
  },
  {
   "cell_type": "code",
   "execution_count": 13,
   "metadata": {},
   "outputs": [
    {
     "name": "stdout",
     "output_type": "stream",
     "text": [
      "0.49091787439613527\n",
      "{'max_depth': None, 'max_features': 20, 'n_estimators': 25}\n"
     ]
    }
   ],
   "source": [
    "print(grid_search.best_score_)\n",
    "print(grid_search.best_params_)"
   ]
  },
  {
   "cell_type": "code",
   "execution_count": 14,
   "metadata": {},
   "outputs": [
    {
     "data": {
      "text/plain": [
       "RandomForestClassifier(max_features=20, n_estimators=25, random_state=2)"
      ]
     },
     "execution_count": 14,
     "metadata": {},
     "output_type": "execute_result"
    }
   ],
   "source": [
    "rf = RandomForestClassifier(max_depth=None, max_features=20, n_estimators=25, random_state=2)\n",
    "\n",
    "#trainning with the best params\n",
    "rf.fit(X_train, y_train)"
   ]
  },
  {
   "cell_type": "markdown",
   "metadata": {},
   "source": [
    "### Model evaluation "
   ]
  },
  {
   "cell_type": "code",
   "execution_count": 15,
   "metadata": {},
   "outputs": [
    {
     "name": "stdout",
     "output_type": "stream",
     "text": [
      "accuracy:  0.716\n",
      "Confusion matrix: \n",
      "[[150  28]\n",
      " [ 43  29]]\n",
      "roc_auc:  0.7249141697877654\n"
     ]
    }
   ],
   "source": [
    "from sklearn.metrics import roc_auc_score\n",
    "#Testing the model \n",
    "#Predicting using our  model\n",
    "y_pred = rf.predict(X_test)\n",
    "\n",
    "# Verificaar os resultados obtidos\n",
    "print(\"accuracy: \", accuracy_score(y_test,y_pred))\n",
    "print(\"Confusion matrix: \")\n",
    "print(confusion_matrix(y_test, y_pred))\n",
    "print(\"roc_auc: \", roc_auc_score(y_test, rf.predict_proba(X_test)[:, 1]))"
   ]
  },
  {
   "cell_type": "code",
   "execution_count": 16,
   "metadata": {},
   "outputs": [
    {
     "data": {
      "image/png": "[encoded data removed]",
      "text/plain": [
       "<Figure size 432x288 with 1 Axes>"
      ]
     },
     "metadata": {
      "needs_background": "light"
     },
     "output_type": "display_data"
    }
   ],
   "source": [
    "from sklearn.metrics import plot_roc_curve\n",
    "plot_roc_curve(rf, X_test, y_test)\n",
    "plt.plot([0, 1], [0, 1],'r--')\n",
    "plt.title(\"ROC curve\")\n",
    "plt.show()"
   ]
  },
  {
   "cell_type": "markdown",
   "metadata": {},
   "source": [
    "### Fairness -- anti-classification"
   ]
  },
  {
   "cell_type": "code",
   "execution_count": 17,
   "metadata": {},
   "outputs": [
    {
     "name": "stdout",
     "output_type": "stream",
     "text": [
      "24\n"
     ]
    },
    {
     "data": {
      "text/plain": [
       "Index(['Job', 'Credit amount', 'Duration', 'Purpose_car',\n",
       "       'Purpose_domestic appliances', 'Purpose_education',\n",
       "       'Purpose_furniture/equipment', 'Purpose_radio/TV', 'Purpose_repairs',\n",
       "       'Purpose_vacation/others', 'Sex_male', 'Housing_own', 'Housing_rent',\n",
       "       'Savings_moderate', 'Savings_no_inf', 'Savings_quite rich',\n",
       "       'Savings_rich', 'Risk_bad', 'Check_moderate', 'Check_no_inf',\n",
       "       'Check_rich', 'Age_cat_Young', 'Age_cat_Adult', 'Age_cat_Senior'],\n",
       "      dtype='object')"
      ]
     },
     "execution_count": 17,
     "metadata": {},
     "output_type": "execute_result"
    }
   ],
   "source": [
    "#gender -- column 10 is gender \n",
    "print(len(df_credit.columns))\n",
    "df_credit.columns"
   ]
  },
  {
   "cell_type": "code",
   "execution_count": 18,
   "metadata": {},
   "outputs": [
    {
     "data": {
      "text/plain": [
       "(250, 23)"
      ]
     },
     "execution_count": 18,
     "metadata": {},
     "output_type": "execute_result"
    }
   ],
   "source": [
    "X_test_flip_gender = np.delete(X_test, 10, 1)\n",
    "gender_col = 1 - X_test[:, 10]\n",
    "X_test_flip_gender = np.insert(X_test_flip_gender, 10, gender_col, 1)\n",
    "X_test_flip_gender.shape"
   ]
  },
  {
   "cell_type": "code",
   "execution_count": 19,
   "metadata": {},
   "outputs": [],
   "source": [
    "y_pred_flip_gender = rf.predict(X_test_flip_gender)"
   ]
  },
  {
   "cell_type": "code",
   "execution_count": 20,
   "metadata": {},
   "outputs": [
    {
     "name": "stdout",
     "output_type": "stream",
     "text": [
      "The number of prediction change due to gender is:  22\n",
      "The rate is:  0.088\n"
     ]
    }
   ],
   "source": [
    "count = 0\n",
    "for i in range (len(y_pred)):\n",
    "    if y_pred[i] != y_pred_flip_gender[i]:\n",
    "        count += 1 \n",
    "        \n",
    "print(\"The number of prediction change due to gender is: \", count)\n",
    "print(\"The rate is: \", count/len(y_pred))"
   ]
  },
  {
   "cell_type": "code",
   "execution_count": 21,
   "metadata": {},
   "outputs": [
    {
     "data": {
      "text/plain": [
       "(250, 23)"
      ]
     },
     "execution_count": 21,
     "metadata": {},
     "output_type": "execute_result"
    }
   ],
   "source": [
    "#age -- the last three columns are related to age \n",
    "age_cols = np.random.randint(2, size=3*len(y_pred)).reshape(-1, 3)\n",
    "X_test_flip_age = np.concatenate((X_test[:, :-3], age_cols), axis=1)\n",
    "X_test_flip_age.shape"
   ]
  },
  {
   "cell_type": "code",
   "execution_count": 22,
   "metadata": {},
   "outputs": [],
   "source": [
    "y_pred_flip_age = rf.predict(X_test_flip_age)"
   ]
  },
  {
   "cell_type": "code",
   "execution_count": 23,
   "metadata": {},
   "outputs": [
    {
     "name": "stdout",
     "output_type": "stream",
     "text": [
      "The number of prediction change due to age is:  18\n",
      "The rate is:  0.072\n"
     ]
    }
   ],
   "source": [
    "count = 0\n",
    "for i in range (len(y_pred)):\n",
    "    if y_pred[i] != y_pred_flip_age[i]:\n",
    "        count += 1 \n",
    "        \n",
    "print(\"The number of prediction change due to age is: \", count)\n",
    "print(\"The rate is: \", count/len(y_pred))"
   ]
  },
  {
   "cell_type": "markdown",
   "metadata": {},
   "source": [
    "### Fairness -- independence"
   ]
  },
  {
   "cell_type": "code",
   "execution_count": 60,
   "metadata": {},
   "outputs": [
    {
     "name": "stdout",
     "output_type": "stream",
     "text": [
      "Number of female:  73\n",
      "Number of male:  177\n",
      "P(risk=bad|gender=female) =  0.3150684931506849\n",
      "P(risk=bad|gender=male) =  0.192090395480226\n"
     ]
    }
   ],
   "source": [
    "# gender \n",
    "gender_col = X_test[:, 10]\n",
    "male_count = 0\n",
    "female_count = 0\n",
    "male_risk_bad = 0\n",
    "female_risk_bad = 0\n",
    "for i in range (len(gender_col)):\n",
    "    if gender_col[i] == 1:\n",
    "        male_count += 1 \n",
    "        if y_pred[i] == 1:\n",
    "            male_risk_bad += 1 \n",
    "    else:\n",
    "        female_count += 1\n",
    "        if y_pred[i] == 1:\n",
    "            female_risk_bad += 1 \n",
    "print(\"Number of female: \", female_count)\n",
    "print(\"Number of male: \", male_count)\n",
    "print(\"P(risk=bad|gender=female) = \", female_risk_bad/female_count)\n",
    "print(\"P(risk=bad|gender=male) = \", male_risk_bad/male_count)"
   ]
  },
  {
   "cell_type": "code",
   "execution_count": 61,
   "metadata": {},
   "outputs": [
    {
     "name": "stdout",
     "output_type": "stream",
     "text": [
      "Number of youngs:  94\n",
      "Number of students:  51\n",
      "Number of adults:  92\n",
      "Number of seniors:  13\n",
      "P(risk=bad|age = young) =  0.1702127659574468\n",
      "P(risk=bad|age = student) =  0.45098039215686275\n",
      "P(risk=bad|age = adult) =  0.14130434782608695\n",
      "P(risk=bad|age = senior) =  0.38461538461538464\n"
     ]
    }
   ],
   "source": [
    "# age \n",
    "age_cols = X_test[:, -3:]\n",
    "young = 0 \n",
    "young_risk_bad = 0 \n",
    "student = 0 \n",
    "student_risk_bad = 0 \n",
    "senior = 0 \n",
    "senior_risk_bad = 0\n",
    "adult = 0\n",
    "adult_risk_bad = 0 \n",
    "\n",
    "for i in range (len(y_pred)):\n",
    "    if list(age_cols[i, :]) == [1.0, 0.0, 0.0]:\n",
    "        young += 1 \n",
    "        if y_pred[i] == 1: \n",
    "            young_risk_bad += 1  \n",
    "    elif list(age_cols[i, :]) == [0.0, 1.0, 0.0]:\n",
    "        adult += 1 \n",
    "        if y_pred[i] == 1: \n",
    "            adult_risk_bad += 1 \n",
    "    elif list(age_cols[i, :]) == [0.0, 0.0, 1.0]:\n",
    "        senior += 1 \n",
    "        if y_pred[i] == 1: \n",
    "            senior_risk_bad +=1 \n",
    "    else:\n",
    "        student += 1\n",
    "        if y_pred[i] == 1: \n",
    "            student_risk_bad += 1 \n",
    "\n",
    "print(\"Number of youngs: \", young)\n",
    "print(\"Number of students: \", student)\n",
    "print(\"Number of adults: \", adult)\n",
    "print(\"Number of seniors: \", senior )\n",
    "print(\"P(risk=bad|age = young) = \", young_risk_bad/young)\n",
    "print(\"P(risk=bad|age = student) = \", student_risk_bad/student)\n",
    "print(\"P(risk=bad|age = adult) = \", adult_risk_bad/adult)\n",
    "print(\"P(risk=bad|age = senior) = \", senior_risk_bad/senior)"
   ]
  },
  {
   "cell_type": "markdown",
   "metadata": {},
   "source": [
    "### Fairness -- separation"
   ]
  },
  {
   "cell_type": "code",
   "execution_count": 62,
   "metadata": {},
   "outputs": [
    {
     "name": "stdout",
     "output_type": "stream",
     "text": [
      "Number of risk female:  22\n",
      "Number of risk male:  50\n",
      "P(predicted_risk=good|gender=female, actual_risk=bad) =  0.5909090909090909\n",
      "P(predicted_risk=good|gender=male, actual_risk=bad) =  0.6\n"
     ]
    }
   ],
   "source": [
    "# gender -- false negative rate \n",
    "false_neg_female = 0 \n",
    "false_neg_male = 0 \n",
    "risk_female = 0 \n",
    "risk_male = 0\n",
    "for i in range (len(gender_col)):\n",
    "    if gender_col[i] == 1 and y_test[i] == 1:\n",
    "        risk_male += 1 \n",
    "        if y_pred[i] == 0:\n",
    "            false_neg_male += 1 \n",
    "    elif gender_col[i] == 0 and y_test[i] == 1:\n",
    "        risk_female += 1\n",
    "        if y_pred[i] == 0:\n",
    "            false_neg_female += 1 \n",
    "print(\"Number of risk female: \", risk_female)\n",
    "print(\"Number of risk male: \", risk_male)\n",
    "print(\"P(predicted_risk=good|gender=female, actual_risk=bad) = \", false_neg_female/risk_female)\n",
    "print(\"P(predicted_risk=good|gender=male, actual_risk=bad) = \", false_neg_male/risk_male)"
   ]
  },
  {
   "cell_type": "code",
   "execution_count": 58,
   "metadata": {
    "scrolled": true
   },
   "outputs": [
    {
     "name": "stdout",
     "output_type": "stream",
     "text": [
      "Number of risk youngs:  25\n",
      "Number of risk students:  17\n",
      "Number of risk adults:  25\n",
      "Number of risk seniors:  5\n",
      "P(predicted_risk=good|age=young, actual_risk=bad) =  0.72\n",
      "P(predicted_risk=good|age=student, actual_risk=bad) =  0.35294117647058826\n",
      "P(predicted_risk=good|age=adult, actual_risk=bad) =  0.68\n",
      "P(predicted_risk=good|age=senior, actual_risk=bad) =  0.4\n"
     ]
    }
   ],
   "source": [
    "# age -- false negative rate \n",
    "false_neg_young = 0 \n",
    "false_neg_student = 0 \n",
    "false_neg_adult = 0 \n",
    "false_neg_senior = 0 \n",
    "risk_young = 0 \n",
    "risk_student = 0\n",
    "risk_adult = 0\n",
    "risk_senior = 0 \n",
    "\n",
    "for i in range (len(y_pred)):\n",
    "    if list(age_cols[i, :]) == [1.0, 0.0, 0.0] and y_test[i] == 1:\n",
    "        risk_young += 1 \n",
    "        if y_pred[i] == 0: \n",
    "            false_neg_young += 1  \n",
    "    elif list(age_cols[i, :]) == [0.0, 1.0, 0.0] and y_test[i] == 1:\n",
    "        risk_adult += 1 \n",
    "        if y_pred[i] == 0: \n",
    "            false_neg_adult += 1 \n",
    "    elif list(age_cols[i, :]) == [0.0, 0.0, 1.0] and y_test[i] == 1:\n",
    "        risk_senior += 1 \n",
    "        if y_pred[i] == 0: \n",
    "            false_neg_senior +=1 \n",
    "    elif list(age_cols[i, :]) == [0.0, 0.0, 0.0] and y_test[i] == 1:\n",
    "        risk_student += 1\n",
    "        if y_pred[i] == 0: \n",
    "            false_neg_student += 1 \n",
    "\n",
    "print(\"Number of risk youngs: \", risk_young)\n",
    "print(\"Number of risk students: \", risk_student)\n",
    "print(\"Number of risk adults: \", risk_adult)\n",
    "print(\"Number of risk seniors: \", risk_senior)\n",
    "print(\"P(predicted_risk=good|age=young, actual_risk=bad) = \", false_neg_young/risk_young)\n",
    "print(\"P(predicted_risk=good|age=student, actual_risk=bad) = \", false_neg_student/risk_student)\n",
    "print(\"P(predicted_risk=good|age=adult, actual_risk=bad) = \", false_neg_adult/risk_adult)\n",
    "print(\"P(predicted_risk=good|age=senior, actual_risk=bad) = \", false_neg_senior/risk_senior)"
   ]
  },
  {
   "cell_type": "markdown",
   "metadata": {},
   "source": [
    "### Improve model fairness -- anti-classification "
   ]
  },
  {
   "cell_type": "code",
   "execution_count": 50,
   "metadata": {},
   "outputs": [
    {
     "data": {
      "text/plain": [
       "GridSearchCV(cv=5, estimator=RandomForestClassifier(random_state=2),\n",
       "             param_grid={'max_depth': [3, 5, 7, 10, None],\n",
       "                         'max_features': [5, 10, 15, 20],\n",
       "                         'n_estimators': [25, 50, 100, 150]},\n",
       "             scoring='recall')"
      ]
     },
     "execution_count": 50,
     "metadata": {},
     "output_type": "execute_result"
    }
   ],
   "source": [
    "X_train_anti = np.delete(X_train, 10, 1)\n",
    "\n",
    "param_grid = {\"max_depth\": [3,5, 7, 10, None],\n",
    "              \"n_estimators\":[25,50,100,150],\n",
    "              \"max_features\": [5,10,15,20]}\n",
    "\n",
    "#Creating the classifier\n",
    "model = RandomForestClassifier(random_state=2)\n",
    "\n",
    "grid_search = GridSearchCV(model, param_grid=param_grid, cv=5, scoring='recall')\n",
    "grid_search.fit(X_train_anti, y_train)"
   ]
  },
  {
   "cell_type": "code",
   "execution_count": 51,
   "metadata": {},
   "outputs": [
    {
     "name": "stdout",
     "output_type": "stream",
     "text": [
      "0.4865700483091787\n",
      "{'max_depth': None, 'max_features': 20, 'n_estimators': 25}\n"
     ]
    }
   ],
   "source": [
    "print(grid_search.best_score_)\n",
    "print(grid_search.best_params_)"
   ]
  },
  {
   "cell_type": "code",
   "execution_count": 52,
   "metadata": {},
   "outputs": [
    {
     "data": {
      "text/plain": [
       "RandomForestClassifier(max_features=20, n_estimators=25, random_state=2)"
      ]
     },
     "execution_count": 52,
     "metadata": {},
     "output_type": "execute_result"
    }
   ],
   "source": [
    "# improve anti-classification \n",
    "rf_anti = RandomForestClassifier(max_depth=None, max_features=20, n_estimators=25, random_state=2)\n",
    "\n",
    "#trainning with the best params\n",
    "rf_anti.fit(X_train_anti, y_train)"
   ]
  },
  {
   "cell_type": "code",
   "execution_count": 53,
   "metadata": {},
   "outputs": [
    {
     "name": "stdout",
     "output_type": "stream",
     "text": [
      "accuracy:  0.736\n",
      "Confusion matrix: \n",
      "[[153  25]\n",
      " [ 41  31]]\n",
      "roc_auc:  0.6853152309612984\n"
     ]
    }
   ],
   "source": [
    "from sklearn.metrics import roc_auc_score\n",
    "#Testing the model \n",
    "#Predicting using our  model\n",
    "X_test_anti = np.delete(X_test, 10, 1)\n",
    "y_pred_anti = rf_anti.predict(X_test_anti)\n",
    "\n",
    "# Verificaar os resultados obtidos\n",
    "print(\"accuracy: \", accuracy_score(y_test,y_pred_anti))\n",
    "print(\"Confusion matrix: \")\n",
    "print(confusion_matrix(y_test, y_pred_anti))\n",
    "print(\"roc_auc: \", roc_auc_score(y_test, rf_anti.predict_proba(X_test_anti)[:, 1]))"
   ]
  },
  {
   "cell_type": "code",
   "execution_count": 54,
   "metadata": {},
   "outputs": [
    {
     "data": {
      "image/png": "[encoded data removed]",
      "text/plain": [
       "<Figure size 432x288 with 1 Axes>"
      ]
     },
     "metadata": {
      "needs_background": "light"
     },
     "output_type": "display_data"
    }
   ],
   "source": [
    "from sklearn.metrics import plot_roc_curve\n",
    "plot_roc_curve(rf_anti, X_test_anti, y_test)\n",
    "plt.plot([0, 1], [0, 1],'r--')\n",
    "plt.title(\"ROC curve after removing gender column\")\n",
    "plt.show()"
   ]
  },
  {
   "cell_type": "markdown",
   "metadata": {},
   "source": [
    "### Improve model fairness -- independence"
   ]
  },
  {
   "cell_type": "code",
   "execution_count": 67,
   "metadata": {},
   "outputs": [],
   "source": [
    "X_test_female = X_test[X_test[:, 10] == 0]\n",
    "X_test_male = X_test[X_test[:, 10] == 1]"
   ]
  },
  {
   "cell_type": "code",
   "execution_count": 81,
   "metadata": {},
   "outputs": [],
   "source": [
    "y_test_female = y_test[X_test[:, 10] == 0]\n",
    "y_test_male = y_test[X_test[:, 10] == 1]"
   ]
  },
  {
   "cell_type": "code",
   "execution_count": 83,
   "metadata": {},
   "outputs": [
    {
     "name": "stdout",
     "output_type": "stream",
     "text": [
      "P(risk = bad | gender = female) =  0.1917808219178082\n",
      "Confusion matrix: \n",
      "[[44  7]\n",
      " [15  7]]\n"
     ]
    }
   ],
   "source": [
    "# The default threshold is 0.5 \n",
    "# lower the threshold for female \n",
    "threshold = 0.6\n",
    "predicted_proba = rf.predict_proba(X_test_female)\n",
    "y_pred_female = (predicted_proba [:,1] >= threshold).astype('int')\n",
    "print(\"P(risk = bad | gender = female) = \", len(y_pred_female[y_pred_female == 1])/len(y_pred_female))\n",
    "print(\"Confusion matrix: \")\n",
    "print(confusion_matrix(y_test_female, y_pred_female))"
   ]
  },
  {
   "cell_type": "code",
   "execution_count": 84,
   "metadata": {},
   "outputs": [
    {
     "name": "stdout",
     "output_type": "stream",
     "text": [
      "P(risk = bad | gender = male) =  0.192090395480226\n",
      "Confusion matrix: \n",
      "[[113  14]\n",
      " [ 30  20]]\n"
     ]
    }
   ],
   "source": [
    "# The default threshold is 0.5 \n",
    "# Keep the default threshold for male \n",
    "threshold = 0.5\n",
    "predicted_proba = rf.predict_proba(X_test_male)\n",
    "y_pred_male = (predicted_proba [:,1] >= threshold).astype('int')\n",
    "print(\"P(risk = bad | gender = male) = \", len(y_pred_male[y_pred_male == 1])/len(y_pred_male))\n",
    "print(\"Confusion matrix: \")\n",
    "print(confusion_matrix(y_test_male, y_pred_male))"
   ]
  },
  {
   "cell_type": "code",
   "execution_count": 86,
   "metadata": {},
   "outputs": [
    {
     "name": "stdout",
     "output_type": "stream",
     "text": [
      "0.736\n"
     ]
    }
   ],
   "source": [
    "print(accuracy_score(np.concatenate([y_test_male,y_test_female]), np.concatenate([y_pred_male,y_pred_female])))"
   ]
  },
  {
   "cell_type": "markdown",
   "metadata": {},
   "source": [
    "### Improve model separation"
   ]
  },
  {
   "cell_type": "code",
   "execution_count": 138,
   "metadata": {},
   "outputs": [
    {
     "name": "stdout",
     "output_type": "stream",
     "text": [
      "Confusion matrix: \n",
      "[[41 10]\n",
      " [14  8]]\n"
     ]
    }
   ],
   "source": [
    "threshold = 0.53\n",
    "predicted_proba = rf.predict_proba(X_test_female)\n",
    "y_pred_female = (predicted_proba [:,1] >= threshold).astype('int')\n",
    "print(\"Confusion matrix: \")\n",
    "print(confusion_matrix(y_test_female, y_pred_female))"
   ]
  },
  {
   "cell_type": "code",
   "execution_count": 139,
   "metadata": {},
   "outputs": [
    {
     "name": "stdout",
     "output_type": "stream",
     "text": [
      "Number of risk female:  22\n",
      "P(predicted_risk=good|gender=female, actual_risk=bad) =  0.6363636363636364\n"
     ]
    }
   ],
   "source": [
    "# gender -- false negative rate \n",
    "false_neg_female = 0 \n",
    "risk_female = 0 \n",
    "for i in range (len(y_pred_female)):\n",
    "    if y_test_female[i] == 1:\n",
    "        risk_female += 1 \n",
    "        if y_pred_female[i] == 0:\n",
    "            false_neg_female += 1 \n",
    "print(\"Number of risk female: \", risk_female)\n",
    "print(\"P(predicted_risk=good|gender=female, actual_risk=bad) = \", false_neg_female/risk_female)"
   ]
  },
  {
   "cell_type": "code",
   "execution_count": null,
   "metadata": {},
   "outputs": [],
   "source": []
  }
 ],
 "metadata": {
  "kernelspec": {
   "display_name": "Python 3",
   "language": "python",
   "name": "python3"
  },
  "language_info": {
   "codemirror_mode": {
    "name": "ipython",
    "version": 3
   },
   "file_extension": ".py",
   "mimetype": "text/x-python",
   "name": "python",
   "nbconvert_exporter": "python",
   "pygments_lexer": "ipython3",
   "version": "3.7.4"
  }
 },
 "nbformat": 4,
 "nbformat_minor": 2
}
